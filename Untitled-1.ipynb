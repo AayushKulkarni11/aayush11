{
 "cells": [
  {
   "cell_type": "code",
   "execution_count": null,
   "metadata": {},
   "outputs": [],
   "source": [
    "eng = int(input(\"enter english marks =\"))\n",
    "maths = int(input(\"enter maths marks =\"))\n",
    "phy = int(input(\"enter physics marks =\" ))\n",
    "chem = int(input(\"enter chemistry marks =\" ))\n",
    "bio = int(input(\"enter biology marks =\" ))\n",
    "if(eng<=40 or maths<=40 or phy<=40 or chem<=40 or bio<=40):\n",
    "    print(\"fail\")\n",
    "else:\n",
    "    print(\"pass\")\n",
    "    total = eng+maths+phy+chem+bio\n",
    "    print(\"total is :\",total)\n",
    "    per = total/5\n",
    "    print(\"percentage is:\",per)\n",
    "    if(per>=75):\n",
    "        print(\"distinction\")\n",
    "    elif(per>=60 and per<75):\n",
    "        print(\"first division\")\n",
    "    elif(per>=50 and per<60):\n",
    "        print(\"second division\")\n",
    "    elif(per>=40 and per<50):\n",
    "            print(\"third division\")"
   ]
  },
  {
   "cell_type": "code",
   "execution_count": null,
   "metadata": {},
   "outputs": [],
   "source": []
  }
 ],
 "metadata": {
  "language_info": {
   "name": "python"
  },
  "orig_nbformat": 4
 },
 "nbformat": 4,
 "nbformat_minor": 2
}
